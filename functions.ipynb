{
 "cells": [
  {
   "cell_type": "markdown",
   "id": "a5693425-9491-4a0c-98e0-664cf6df248b",
   "metadata": {},
   "source": [
    "<center><img src=\"image.png\" width=500></center>\n",
    "<p>\n",
    "\n",
    "The task is to automate the process of retrieving and cleaning data by building a data pipeline to pull data each month, in order to observe changes in the sales and capability of different energy types.\n",
    "\n",
    "Two raw files; `electricity_sales.csv` and `electricity_capability_nested.json`. \n",
    "    \n",
    "Below is a data dictionary for the `electricity_sales.csv` dataset, which data are transformed in.\n",
    "\n",
    "| Field | Data Type |\n",
    "| :---- | :-------: |\n",
    "| period  | `str`        |\n",
    "| stateid | `str` |\n",
    "| stateDescription | `str` |\n",
    "| sectorid | `str` |\n",
    "| sectorName | `str` |\n",
    "| price | `float` |\n",
    "| price-units | `str` |"
   ]
  },
  {
   "cell_type": "code",
   "execution_count": 35,
   "id": "408b0fb1-926b-4c41-98e8-15803a1999cb",
   "metadata": {
    "executionCancelledAt": null,
    "executionTime": 12,
    "lastExecutedAt": 1742033969017,
    "lastExecutedByKernel": "f3cf09a5-8f19-4019-b204-f07fbddc3a23",
    "lastScheduledRunId": null,
    "lastSuccessfullyExecutedCode": "import pandas as pd\nimport json"
   },
   "outputs": [],
   "source": [
    "import pandas as pd\n",
    "import json\n",
    "import os"
   ]
  },
  {
   "cell_type": "code",
   "execution_count": 36,
   "id": "e79342a8-2eeb-4bcc-92f0-70c5ebec76e5",
   "metadata": {
    "executionCancelledAt": null,
    "executionTime": 48,
    "lastExecutedAt": 1742033969065,
    "lastExecutedByKernel": "f3cf09a5-8f19-4019-b204-f07fbddc3a23",
    "lastScheduledRunId": null,
    "lastSuccessfullyExecutedCode": "def extract_tabular_data(file_path: str):\n    \"\"\"Extract data from a tabular file_format, with pandas.\"\"\"\n    if file_path.endswith(\".csv\"):\n        df = pd.read_csv(file_path)\n        return df\n    elif file_path.endswith(\".parquet\"):\n        df = pd.read_csv(file_path)\n        return df\n    else:\n        raise Exception(\"Warning: Invalid file extension. Please try with .csv or .parquet!\")",
    "outputsMetadata": {
     "0": {
      "height": 550,
      "tableState": {
       "customFilter": {
        "const": {
         "type": "boolean",
         "valid": true,
         "value": true
        },
        "id": "0887825e-c0f7-46e0-9574-fc2dbedfd907",
        "nodeType": "const"
       },
       "quickFilterText": ""
      },
      "type": "dataFrame"
     }
    }
   },
   "outputs": [],
   "source": [
    "def extract_tabular_data(file_path: str):\n",
    "    \"\"\"Extract data from a tabular file_format, with pandas.\"\"\"\n",
    "    if file_path.endswith(\".csv\"):\n",
    "        df = pd.read_csv(file_path)\n",
    "        return df\n",
    "    elif file_path.endswith(\".parquet\"):\n",
    "        df = pd.read_csv(file_path)\n",
    "        return df\n",
    "    else:\n",
    "        raise Exception(\"Warning: Invalid file extension. Please try with .csv or .parquet!\")"
   ]
  },
  {
   "cell_type": "code",
   "execution_count": 37,
   "id": "ecbc91c2-e0cc-4ae7-a7e8-ab2a56f1a1a9",
   "metadata": {
    "executionCancelledAt": null,
    "executionTime": 48,
    "lastExecutedAt": 1742033969113,
    "lastExecutedByKernel": "f3cf09a5-8f19-4019-b204-f07fbddc3a23",
    "lastScheduledRunId": null,
    "lastSuccessfullyExecutedCode": "def extract_json_data(file_path):\n    \"\"\"Extract and flatten data from a JSON file.\"\"\"\n    with open(file_path, 'r') as json_data:\n        df_nested = json.load(json_data)\n    df = pd.json_normalize(df_nested)\n    return df",
    "outputsMetadata": {
     "0": {
      "height": 550,
      "tableState": {
       "customFilter": {
        "const": {
         "type": "boolean",
         "valid": true,
         "value": true
        },
        "id": "0887825e-c0f7-46e0-9574-fc2dbedfd907",
        "nodeType": "const"
       },
       "quickFilterText": ""
      },
      "type": "dataFrame"
     }
    }
   },
   "outputs": [],
   "source": [
    "def extract_json_data(file_path):\n",
    "    \"\"\"Extract and flatten data from a JSON file.\"\"\"\n",
    "    with open(file_path, 'r') as json_data:\n",
    "        df_nested = json.load(json_data)\n",
    "    df = pd.json_normalize(df_nested)\n",
    "    return df"
   ]
  },
  {
   "cell_type": "code",
   "execution_count": 38,
   "id": "3cc22273-22b8-4f30-8c11-a746f884509f",
   "metadata": {
    "executionCancelledAt": null,
    "executionTime": 50,
    "lastExecutedAt": 1742033969163,
    "lastExecutedByKernel": "f3cf09a5-8f19-4019-b204-f07fbddc3a23",
    "lastScheduledRunId": null,
    "lastSuccessfullyExecutedCode": "def transform_electricity_sales_data(raw_data: pd.DataFrame):\n    \"\"\"\n    Transform electricity sales to find the total amount of electricity sold\n    in the residential and transportation sectors.\n    \n    To transform the electricity sales data, you'll need to do the following:\n    - Drop any records with NA values in the `price` column. Do this inplace.\n    - Only keep records with a `sectorName` of \"residential\" or \"transportation\".\n    - Create a `month` column using the first 4 characters of the values in `period`.\n    - Create a `year` column using the last 2 characters of the values in `period`.\n    - Return the transformed `DataFrame`, keeping only the columns `year`, `month`, `stateid`, `price` and `price-units`.\n    \"\"\"\n    na_dropped = raw_data.dropna(subset=[\"price\"])\n    filtered = na_dropped[na_dropped[\"sectorName\"].isin([\"residential\", \"transportation\"])]\n    filtered[\"month\"] = filtered[\"period\"].str.slice(5,7)\n    filtered[\"year\"] = filtered[\"period\"].str.slice(0,4)\n    df = filtered[[\"year\", \"month\", \"stateid\", \"price\", \"price-units\"]]\n    return df"
   },
   "outputs": [],
   "source": [
    "def transform_electricity_sales_data(raw_data: pd.DataFrame):\n",
    "    \"\"\"\n",
    "    Transform electricity sales to find the total amount of electricity sold\n",
    "    in the residential and transportation sectors.\n",
    "    \n",
    "    To transform the electricity sales data, you'll need to do the following:\n",
    "    - Drop any records with NA values in the `price` column. Do this inplace.\n",
    "    - Only keep records with a `sectorName` of \"residential\" or \"transportation\".\n",
    "    - Create a `month` column using the first 4 characters of the values in `period`.\n",
    "    - Create a `year` column using the last 2 characters of the values in `period`.\n",
    "    - Return the transformed `DataFrame`, keeping only the columns `year`, `month`, `stateid`, `price` and `price-units`.\n",
    "    \"\"\"\n",
    "    na_dropped = raw_data.dropna(subset=[\"price\"])\n",
    "    filtered = na_dropped[na_dropped[\"sectorName\"].isin([\"residential\", \"transportation\"])]\n",
    "    filtered.loc[:, \"month\"] = filtered[\"period\"].str[5,7]\n",
    "    filtered.loc[:, \"year\"] = filtered[\"period\"].str[0,4]\n",
    "    df = filtered[[\"year\", \"month\", \"stateid\", \"price\", \"price-units\"]]\n",
    "    return df"
   ]
  },
  {
   "cell_type": "code",
   "execution_count": 39,
   "id": "66e6db3c-ebfa-4f7b-9668-eac8a01f4263",
   "metadata": {
    "executionCancelledAt": null,
    "executionTime": 46,
    "lastExecutedAt": 1742033969209,
    "lastExecutedByKernel": "f3cf09a5-8f19-4019-b204-f07fbddc3a23",
    "lastScheduledRunId": null,
    "lastSuccessfullyExecutedCode": "def load(dataframe: pd.DataFrame, file_path: str):\n    \"\"\"Load a DataFrame to a file in either CSV or Parquet format.\"\"\"\n    if file_path.endswith(\".csv\"):\n        dataframe.to_csv(file_path)\n    elif file_path.endswith(\".parquet\"):\n        dataframe.to_csv(file_path)\n    else:\n        raise Exception(\"Warning: {file_path} is not a valid type. Please try again!_\")"
   },
   "outputs": [],
   "source": [
    "def load(dataframe: pd.DataFrame, file_path: str):\n",
    "    \"\"\"Load a DataFrame to a file in either CSV or Parquet format.\"\"\"\n",
    "    if file_path.endswith(\".csv\"):\n",
    "        dataframe.to_csv(file_path)\n",
    "    elif file_path.endswith(\".parquet\"):\n",
    "        dataframe.to_csv(file_path)\n",
    "    else:\n",
    "        raise Exception(\"Warning: {file_path} is not a valid type. Please try again!_\")"
   ]
  },
  {
   "cell_type": "code",
   "execution_count": 40,
   "id": "0af0418a",
   "metadata": {},
   "outputs": [],
   "source": [
    "def validation(file_path):\n",
    "    if os.path.exists(file_path):\n",
    "        return f\"{file_path} exists.\"\n",
    "    else:\n",
    "        raise Exception(f\"{filepath} not found.\")"
   ]
  }
 ],
 "metadata": {
  "colab": {
   "name": "Welcome to DataCamp Workspaces.ipynb",
   "provenance": []
  },
  "editor": "DataLab",
  "kernelspec": {
   "display_name": "base",
   "language": "python",
   "name": "python3"
  },
  "language_info": {
   "codemirror_mode": {
    "name": "ipython",
    "version": 3
   },
   "file_extension": ".py",
   "mimetype": "text/x-python",
   "name": "python",
   "nbconvert_exporter": "python",
   "pygments_lexer": "ipython3",
   "version": "3.9.12"
  }
 },
 "nbformat": 4,
 "nbformat_minor": 5
}
